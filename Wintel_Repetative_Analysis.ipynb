{
 "cells": [
  {
   "cell_type": "code",
   "execution_count": 1,
   "metadata": {},
   "outputs": [],
   "source": [
    "from Functions.Preprocess import Preprocessing\n",
    "from Functions.Cluster import text_Clustering\n",
    "import pandas as pd"
   ]
  },
  {
   "cell_type": "code",
   "execution_count": 2,
   "metadata": {},
   "outputs": [],
   "source": [
    "# Data\n",
    "incidents = pd.read_excel('C:/Users/lgorle/Desktop/UC2Ticketcategorization/teamcode/Dataset/QBE_Volumetrics_PF_V2.0.xlsx',sheet_name=\"Inc_PF\")"
   ]
  },
  {
   "cell_type": "code",
   "execution_count": 3,
   "metadata": {},
   "outputs": [],
   "source": [
    "# Ticket Title\n",
    "ticket_title = incidents['Description']"
   ]
  },
  {
   "cell_type": "markdown",
   "metadata": {},
   "source": [
    "###  Preprocessing Text"
   ]
  },
  {
   "cell_type": "code",
   "execution_count": 4,
   "metadata": {},
   "outputs": [],
   "source": [
    "pre = Preprocessing()"
   ]
  },
  {
   "cell_type": "code",
   "execution_count": 5,
   "metadata": {},
   "outputs": [
    {
     "name": "stdout",
     "output_type": "stream",
     "text": [
      "time elapsed: 2.0378594398498535 sec\n"
     ]
    }
   ],
   "source": [
    "preprocessed_data = pre.text(list(ticket_title))"
   ]
  },
  {
   "cell_type": "code",
   "execution_count": 9,
   "metadata": {},
   "outputs": [],
   "source": [
    "df=pd.DataFrame()\n",
    "df['Desc']=preprocessed_data\n",
    "df.to_excel(\"prepr.xlsx\",index=False)"
   ]
  },
  {
   "cell_type": "markdown",
   "metadata": {},
   "source": [
    "### Text to Vectors"
   ]
  },
  {
   "cell_type": "code",
   "execution_count": 7,
   "metadata": {},
   "outputs": [
    {
     "name": "stdout",
     "output_type": "stream",
     "text": [
      "time elapsed: 0.27569150924682617 sec\n",
      "shape of tfidf matrix: (839, 3192) \n",
      "length of terms: 3192\n"
     ]
    }
   ],
   "source": [
    "# tfidf matrix and feature_names\n",
    "tfid_data,terms = pre.text_vect(data = preprocessed_data)\n",
    "print('shape of tfidf matrix:',tfid_data.shape,'\\nlength of terms:',len(terms))"
   ]
  },
  {
   "cell_type": "markdown",
   "metadata": {},
   "source": [
    "### Clustering\n"
   ]
  },
  {
   "cell_type": "code",
   "execution_count": 8,
   "metadata": {},
   "outputs": [],
   "source": [
    "cluster = text_Clustering()"
   ]
  },
  {
   "cell_type": "code",
   "execution_count": 9,
   "metadata": {},
   "outputs": [
    {
     "name": "stdout",
     "output_type": "stream",
     "text": [
      "time elapsed: 1.7662761211395264 sec\n",
      "Explained Variance: 0.645459566741522 \n",
      "Components shape: (160, 3192) \n",
      "lsa_data shape: (839, 160)\n"
     ]
    }
   ],
   "source": [
    "# Latent Semantic Analysis\n",
    "Lsa = cluster.lsa(data = tfid_data,n_components=160)\n",
    "variance,comp,lsa_data = Lsa.cluster_()\n",
    "print('Explained Variance:',variance,'\\nComponents shape:',comp.shape,'\\nlsa_data shape:',lsa_data.shape)"
   ]
  },
  {
   "cell_type": "code",
   "execution_count": 10,
   "metadata": {},
   "outputs": [
    {
     "name": "stdout",
     "output_type": "stream",
     "text": [
      "time elapsed: 5.351538419723511 sec\n"
     ]
    }
   ],
   "source": [
    "# Kmeans\n",
    "clusters = cluster.Kmeans().cluster(lsa_data,160)"
   ]
  },
  {
   "cell_type": "code",
   "execution_count": 12,
   "metadata": {},
   "outputs": [
    {
     "data": {
      "text/html": [
       "<div>\n",
       "<style scoped>\n",
       "    .dataframe tbody tr th:only-of-type {\n",
       "        vertical-align: middle;\n",
       "    }\n",
       "\n",
       "    .dataframe tbody tr th {\n",
       "        vertical-align: top;\n",
       "    }\n",
       "\n",
       "    .dataframe thead th {\n",
       "        text-align: right;\n",
       "    }\n",
       "</style>\n",
       "<table border=\"1\" class=\"dataframe\">\n",
       "  <thead>\n",
       "    <tr style=\"text-align: right;\">\n",
       "      <th></th>\n",
       "      <th>ticket_title</th>\n",
       "      <th>new_ticket_title</th>\n",
       "      <th>cluster</th>\n",
       "    </tr>\n",
       "  </thead>\n",
       "  <tbody>\n",
       "    <tr>\n",
       "      <th>0</th>\n",
       "      <td>TNTX_Common Sales [PROD] - Execute scripts on ...</td>\n",
       "      <td>tntx common sales prod execute scripts prod en...</td>\n",
       "      <td>146</td>\n",
       "    </tr>\n",
       "    <tr>\n",
       "      <th>1</th>\n",
       "      <td>TNTX_2018 MR04: EUR1 MAIN - CWC SW Deployment ...</td>\n",
       "      <td>tntx mr eur main cwc sw deployment snow chg</td>\n",
       "      <td>42</td>\n",
       "    </tr>\n",
       "    <tr>\n",
       "      <th>2</th>\n",
       "      <td>TNTX_Run INSERT scripts on PROD server ukwysms...</td>\n",
       "      <td>tntx run insert scripts prod server snow chg</td>\n",
       "      <td>153</td>\n",
       "    </tr>\n",
       "    <tr>\n",
       "      <th>3</th>\n",
       "      <td>TNTX_2018: MR04: EUR1 Main: Global OPS: ACAS G...</td>\n",
       "      <td>tntx mr eur main global ops acas global deploy...</td>\n",
       "      <td>42</td>\n",
       "    </tr>\n",
       "    <tr>\n",
       "      <th>4</th>\n",
       "      <td>TNTX_2018: MR04: EUR2 MAIN: Global OPS: ACAS G...</td>\n",
       "      <td>tntx mr eur main global ops acas global deploy...</td>\n",
       "      <td>42</td>\n",
       "    </tr>\n",
       "  </tbody>\n",
       "</table>\n",
       "</div>"
      ],
      "text/plain": [
       "                                        ticket_title  \\\n",
       "0  TNTX_Common Sales [PROD] - Execute scripts on ...   \n",
       "1  TNTX_2018 MR04: EUR1 MAIN - CWC SW Deployment ...   \n",
       "2  TNTX_Run INSERT scripts on PROD server ukwysms...   \n",
       "3  TNTX_2018: MR04: EUR1 Main: Global OPS: ACAS G...   \n",
       "4  TNTX_2018: MR04: EUR2 MAIN: Global OPS: ACAS G...   \n",
       "\n",
       "                                    new_ticket_title  cluster  \n",
       "0  tntx common sales prod execute scripts prod en...      146  \n",
       "1        tntx mr eur main cwc sw deployment snow chg       42  \n",
       "2       tntx run insert scripts prod server snow chg      153  \n",
       "3  tntx mr eur main global ops acas global deploy...       42  \n",
       "4  tntx mr eur main global ops acas global deploy...       42  "
      ]
     },
     "execution_count": 12,
     "metadata": {},
     "output_type": "execute_result"
    }
   ],
   "source": [
    "# Creating a final Dataframe \n",
    "final = pd.DataFrame(list(ticket_title),columns=['ticket_title'])\n",
    "final['new_ticket_title'] = preprocessed_data\n",
    "#final['std_event'] = incidents['Standard Event']\n",
    "final['cluster'] = clusters\n",
    "final.head()"
   ]
  },
  {
   "cell_type": "code",
   "execution_count": 13,
   "metadata": {},
   "outputs": [],
   "source": [
    "# Most_Frequent terms in a Cluster \n",
    "from collections import Counter\n",
    "num_clusters = max(final.cluster)\n",
    "most_freq = []\n",
    "# for each cluster \n",
    "for clus in range(0,num_clusters):\n",
    "    # Group by new_ticket_title \n",
    "    x = pd.DataFrame(final[final.cluster == clus].new_ticket_title)\n",
    "    # appending 5 most frequent terms\n",
    "    most_freq.append((Counter(' '.join(x['new_ticket_title']).split()).most_common(5),clus))"
   ]
  },
  {
   "cell_type": "code",
   "execution_count": 14,
   "metadata": {},
   "outputs": [
    {
     "data": {
      "text/html": [
       "<div>\n",
       "<style scoped>\n",
       "    .dataframe tbody tr th:only-of-type {\n",
       "        vertical-align: middle;\n",
       "    }\n",
       "\n",
       "    .dataframe tbody tr th {\n",
       "        vertical-align: top;\n",
       "    }\n",
       "\n",
       "    .dataframe thead th {\n",
       "        text-align: right;\n",
       "    }\n",
       "</style>\n",
       "<table border=\"1\" class=\"dataframe\">\n",
       "  <thead>\n",
       "    <tr style=\"text-align: right;\">\n",
       "      <th></th>\n",
       "      <th>ticket_title</th>\n",
       "      <th>new_ticket_title</th>\n",
       "      <th>cluster</th>\n",
       "      <th>most_frequent_terms</th>\n",
       "    </tr>\n",
       "  </thead>\n",
       "  <tbody>\n",
       "    <tr>\n",
       "      <th>0</th>\n",
       "      <td>TNTX_Common Sales [PROD] - Execute scripts on ...</td>\n",
       "      <td>tntx common sales prod execute scripts prod en...</td>\n",
       "      <td>146</td>\n",
       "      <td>[(prod, 5), (chg, 5), (tntx, 4), (snow, 3), (c...</td>\n",
       "    </tr>\n",
       "    <tr>\n",
       "      <th>1</th>\n",
       "      <td>TNTX_2018 MR04: EUR1 MAIN - CWC SW Deployment ...</td>\n",
       "      <td>tntx mr eur main cwc sw deployment snow chg</td>\n",
       "      <td>42</td>\n",
       "      <td>[(tntx, 7), (mr, 7), (main, 7), (snow, 7), (ch...</td>\n",
       "    </tr>\n",
       "    <tr>\n",
       "      <th>2</th>\n",
       "      <td>TNTX_Run INSERT scripts on PROD server ukwysms...</td>\n",
       "      <td>tntx run insert scripts prod server snow chg</td>\n",
       "      <td>153</td>\n",
       "      <td>[(server, 11), (snow, 10), (chg, 10), (tntx, 9...</td>\n",
       "    </tr>\n",
       "    <tr>\n",
       "      <th>3</th>\n",
       "      <td>TNTX_2018: MR04: EUR1 Main: Global OPS: ACAS G...</td>\n",
       "      <td>tntx mr eur main global ops acas global deploy...</td>\n",
       "      <td>42</td>\n",
       "      <td>[(tntx, 7), (mr, 7), (main, 7), (snow, 7), (ch...</td>\n",
       "    </tr>\n",
       "    <tr>\n",
       "      <th>4</th>\n",
       "      <td>TNTX_2018: MR04: EUR2 MAIN: Global OPS: ACAS G...</td>\n",
       "      <td>tntx mr eur main global ops acas global deploy...</td>\n",
       "      <td>42</td>\n",
       "      <td>[(tntx, 7), (mr, 7), (main, 7), (snow, 7), (ch...</td>\n",
       "    </tr>\n",
       "  </tbody>\n",
       "</table>\n",
       "</div>"
      ],
      "text/plain": [
       "                                        ticket_title  \\\n",
       "0  TNTX_Common Sales [PROD] - Execute scripts on ...   \n",
       "1  TNTX_2018 MR04: EUR1 MAIN - CWC SW Deployment ...   \n",
       "2  TNTX_Run INSERT scripts on PROD server ukwysms...   \n",
       "3  TNTX_2018: MR04: EUR1 Main: Global OPS: ACAS G...   \n",
       "4  TNTX_2018: MR04: EUR2 MAIN: Global OPS: ACAS G...   \n",
       "\n",
       "                                    new_ticket_title  cluster  \\\n",
       "0  tntx common sales prod execute scripts prod en...      146   \n",
       "1        tntx mr eur main cwc sw deployment snow chg       42   \n",
       "2       tntx run insert scripts prod server snow chg      153   \n",
       "3  tntx mr eur main global ops acas global deploy...       42   \n",
       "4  tntx mr eur main global ops acas global deploy...       42   \n",
       "\n",
       "                                 most_frequent_terms  \n",
       "0  [(prod, 5), (chg, 5), (tntx, 4), (snow, 3), (c...  \n",
       "1  [(tntx, 7), (mr, 7), (main, 7), (snow, 7), (ch...  \n",
       "2  [(server, 11), (snow, 10), (chg, 10), (tntx, 9...  \n",
       "3  [(tntx, 7), (mr, 7), (main, 7), (snow, 7), (ch...  \n",
       "4  [(tntx, 7), (mr, 7), (main, 7), (snow, 7), (ch...  "
      ]
     },
     "execution_count": 14,
     "metadata": {},
     "output_type": "execute_result"
    }
   ],
   "source": [
    "# Merging most frequent words with data frame\n",
    "analysis = final.merge(right = pd.DataFrame(most_freq,columns = ['most_frequent_terms','cluster']),how='left',on = 'cluster' )\n",
    "analysis.head()"
   ]
  },
  {
   "cell_type": "code",
   "execution_count": 39,
   "metadata": {},
   "outputs": [],
   "source": [
    "# Writing data to excel\n",
    "analysis.to_excel('Dataset\\Analysis.xlsx',index = False)"
   ]
  },
  {
   "cell_type": "code",
   "execution_count": 1,
   "metadata": {},
   "outputs": [
    {
     "data": {
      "text/plain": [
       "['a', 'b', 'c']"
      ]
     },
     "execution_count": 1,
     "metadata": {},
     "output_type": "execute_result"
    }
   ],
   "source": [
    "[x.lower() for x in [\"A\",\"B\",\"C\"]]"
   ]
  },
  {
   "cell_type": "code",
   "execution_count": null,
   "metadata": {},
   "outputs": [],
   "source": []
  }
 ],
 "metadata": {
  "kernelspec": {
   "display_name": "Python 3",
   "language": "python",
   "name": "python3"
  },
  "language_info": {
   "codemirror_mode": {
    "name": "ipython",
    "version": 3
   },
   "file_extension": ".py",
   "mimetype": "text/x-python",
   "name": "python",
   "nbconvert_exporter": "python",
   "pygments_lexer": "ipython3",
   "version": "3.6.5"
  }
 },
 "nbformat": 4,
 "nbformat_minor": 2
}
